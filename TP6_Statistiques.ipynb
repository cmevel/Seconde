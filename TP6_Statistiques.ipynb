{
 "cells": [
  {
   "cell_type": "markdown",
   "metadata": {},
   "source": [
    "# TP : Les statistiques descriptives \n",
    "***d'après un document de l'académie de Créteil***"
   ]
  },
  {
   "cell_type": "markdown",
   "metadata": {},
   "source": [
    "***Énoncé :***   \n",
    "\n",
    "On a relevé les notes obtenues par Hugo au cours du premier trimestre en mathématiques. Toutes les notes sont sur 20.\n",
    "\n",
    "| 15 | 7 | 8 | 12 | 10 | 14 | 9 | 12,5 | 17 | 13 |\n",
    "|:--:|:-:|:-:|:--:|:--:|:--:|:-:|:----:|:--:|:--:|"
   ]
  },
  {
   "cell_type": "markdown",
   "metadata": {},
   "source": [
    "**1. La moyenne**\n",
    " * Calculer la moyenne obtenue par Hugo au premier trimestre en considérant que chaque note possède le même coefficient.\n",
    " * Un programme pour calculer la moyenne\n",
    "  * Compléter l'algorithme écrit en langage naturel suivant :\n",
    "  ![title](imagestat1.png)\n",
    "  * Programmer cet algorithme en langage Python. Vous testerez le programme en vérifiant que vous retrouvez votre résultat."
   ]
  },
  {
   "cell_type": "code",
   "execution_count": null,
   "metadata": {},
   "outputs": [],
   "source": [
    "#Programme Python à écrire ici!"
   ]
  },
  {
   "cell_type": "markdown",
   "metadata": {},
   "source": [
    "**2. La médiane**\n",
    "* Calculer la note médiane obtenue par Hugo au cours du premier trimestre. Quel travail préliminaire doit-on faire pour calculer la médiane d'une série statistique ?\n",
    "* Python permet de manipuler rapidement des listes.  \n",
    "Voici un tableau décrivant quelques fonctions qui pourront vous être utiles.\n",
    "![title](imagestat2.png)\n",
    "En utilisant ce tableau, imaginer un programme permettant de calculer la médiane obtenue par Hugo. Le tester."
   ]
  },
  {
   "cell_type": "code",
   "execution_count": null,
   "metadata": {},
   "outputs": [],
   "source": [
    "#Programme à écrire ici!"
   ]
  },
  {
   "cell_type": "markdown",
   "metadata": {},
   "source": [
    "3. Modifier le programme de la moyenne pour ne pas être obligé de compter le nombres de valeurs avant de les entrer."
   ]
  },
  {
   "cell_type": "code",
   "execution_count": null,
   "metadata": {},
   "outputs": [],
   "source": [
    "#Programme à écrire ici!"
   ]
  },
  {
   "cell_type": "markdown",
   "metadata": {},
   "source": [
    "4. Imaginer un programme permettant de calculer une moyenne pondérée."
   ]
  },
  {
   "cell_type": "code",
   "execution_count": null,
   "metadata": {},
   "outputs": [],
   "source": [
    "#Programmer à écrire ici!"
   ]
  },
  {
   "cell_type": "markdown",
   "metadata": {},
   "source": [
    "5. Imaginer un programme permettant de calculer le 1er et 3ème quartile."
   ]
  },
  {
   "cell_type": "code",
   "execution_count": null,
   "metadata": {},
   "outputs": [],
   "source": [
    "#Programme à écrire ici!"
   ]
  }
 ],
 "metadata": {
  "kernelspec": {
   "display_name": "Python 3",
   "language": "python",
   "name": "python3"
  },
  "language_info": {
   "codemirror_mode": {
    "name": "ipython",
    "version": 3
   },
   "file_extension": ".py",
   "mimetype": "text/x-python",
   "name": "python",
   "nbconvert_exporter": "python",
   "pygments_lexer": "ipython3",
   "version": "3.7.6"
  }
 },
 "nbformat": 4,
 "nbformat_minor": 4
}
