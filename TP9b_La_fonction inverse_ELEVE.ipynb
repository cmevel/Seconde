{
 "cells": [
  {
   "cell_type": "markdown",
   "metadata": {},
   "source": [
    "# TP 9b : La fonction inverse"
   ]
  },
  {
   "cell_type": "markdown",
   "metadata": {},
   "source": [
    "1. Une fonction donnant l'inverse d'un nombre"
   ]
  },
  {
   "cell_type": "code",
   "execution_count": 30,
   "metadata": {},
   "outputs": [],
   "source": [
    "def fctinverse(x): #à compléter\n",
    "    "
   ]
  },
  {
   "cell_type": "markdown",
   "metadata": {},
   "source": [
    "2. Tester-la avec les valeurs 2; -4; 10² et 0. Qu'en déduire ?"
   ]
  },
  {
   "cell_type": "code",
   "execution_count": null,
   "metadata": {},
   "outputs": [],
   "source": [
    "# Espace pour tester à de multiples reprises"
   ]
  },
  {
   "cell_type": "markdown",
   "metadata": {},
   "source": [
    "3. Traçons la courbe représentative de la fonction inverse en exécutant ce script"
   ]
  },
  {
   "cell_type": "code",
   "execution_count": null,
   "metadata": {},
   "outputs": [],
   "source": [
    "from pylab import *\n",
    "\n",
    "x=linspace (-5,5,100)  #Tableau d'une ligne nommé x qui stocke les 100 valeurs équitablement réparties entre -5 et 5\n",
    "y=fctinverse(x)        #Tableau des ordonnées\n",
    "\n",
    "xlim(-5,5)             # Xmin et Xmax du graphique\n",
    "ylim(-25,25)           # Ymin et Ymax du graphique\n",
    "\n",
    "plot(x,y,\"o\")          # Liste des points rond non reliés \n",
    "\n",
    "title ('Courbe représentative de la fonction inverse') # Titre du graphique\n",
    "xlabel('Abscisses')      #Titre de l'axe horizontal\n",
    "ylabel('Ordonnées')      #Titre de l'axe vertical\n",
    "\n",
    "grid()                 # Quadrillage\n",
    "\n",
    "show()                 # Affichage du tracé des points"
   ]
  },
  {
   "cell_type": "markdown",
   "metadata": {},
   "source": [
    "4. Améliorons le tracé  \n",
    "   * Exécuter ce script. Quelle amélioration y a-t-il ? Repérer dans le programme le changement qui occassionne cette amélioration.\n",
    "   * Mais un problème nouveau survient. Lequel?"
   ]
  },
  {
   "cell_type": "code",
   "execution_count": null,
   "metadata": {},
   "outputs": [],
   "source": [
    "from pylab import *\n",
    "\n",
    "x=linspace (-5,5,100)  #Tableau d'une ligne nommé x qui stocke les 100 valeurs équitablement réparties entre -5 et 5\n",
    "y=fctinverse(x)        #Tableau des ordonnées\n",
    "\n",
    "xlim(-5,5)             # Xmin et Xmax du graphique\n",
    "ylim(-25,25)           # Ymin et Ymax du graphique\n",
    "\n",
    "plot(x,y,'r')          # Liste des points reliés en rouge \n",
    "\n",
    "title ('Courbe représentative de la fonction inverse') # Titre du graphique\n",
    "xlabel('Abscisses')      #Titre de l'axe horizontal\n",
    "ylabel('Ordonnées')      #Titre de l'axe vertical\n",
    "\n",
    "grid()                 # Quadrillage\n",
    "\n",
    "show()                 # Affichage du tracé des points"
   ]
  },
  {
   "cell_type": "markdown",
   "metadata": {},
   "source": [
    "**Oups, il y a un problème !**"
   ]
  },
  {
   "cell_type": "markdown",
   "metadata": {},
   "source": [
    "5. Tentons de supprimer cette fameuse valeur dite *interdite* et voyons le résultat"
   ]
  },
  {
   "cell_type": "code",
   "execution_count": null,
   "metadata": {},
   "outputs": [],
   "source": [
    "from pylab import *\n",
    "\n",
    "x1=linspace (-5,0,100) #Tableau d'une ligne nommé x1 qui stocke les 100 valeurs équitablement réparties entre -5 et 0\n",
    "x2=linspace(0,5,100)\n",
    "\n",
    "y1=fctinverse(x1)        #Tableaux des ordonnées\n",
    "y2=fctinverse(x2)\n",
    "\n",
    "xlim(-5,5)             # Xmin et Xmax du graphique\n",
    "ylim(-25,25)           # Ymin et Ymax du graphique\n",
    "\n",
    "plot(x1,y1)          # Liste des points reliés \n",
    "plot(x2,y2)\n",
    "\n",
    "title ('Courbe représentative de la fonction inverse') # Titre du graphique\n",
    "xlabel('Abscisses')      #Titre de l'axe horizontal\n",
    "ylabel('Ordonnées')      #Titre de l'axe vertical\n",
    "\n",
    "grid()                 # Quadrillage\n",
    "\n",
    "show()                 # Affichage du tracé des points"
   ]
  },
  {
   "cell_type": "markdown",
   "metadata": {},
   "source": [
    "**Oups, il y a toujours un problème !**   \n",
    "\n",
    " * Lequel est-ce ?\n",
    " * Analyser le script pour comprendre comment j'ai essayé de résourdre le problème afin de pouvoir l'expliquer. "
   ]
  },
  {
   "cell_type": "markdown",
   "metadata": {},
   "source": [
    "6. Compléter le script avant de l'exécuter pour s'approcher le plus possible de 0 par des valeurs négatives et des valeurs positives"
   ]
  },
  {
   "cell_type": "code",
   "execution_count": null,
   "metadata": {},
   "outputs": [],
   "source": [
    "from pylab import *\n",
    "\n",
    "x1=linspace (-5,......,100) # à compléter !\n",
    "x2=linspace(.....,5,100)    # à compléter !\n",
    "\n",
    "y1=fctinverse(x1)        #Tableaux des ordonnées\n",
    "y2=fctinverse(x2)\n",
    "\n",
    "xlim(-5,5)             # Xmin et Xmax du graphique\n",
    "ylim(-25,25)           # Ymin et Ymax du graphique\n",
    "\n",
    "plot(x1,y1)          # Liste des points reliés \n",
    "plot(x2,y2)\n",
    "\n",
    "title ('Courbe représentative de la fonction inverse') # Titre du graphique\n",
    "xlabel('Abscisses')      #Titre de l'axe horizontal\n",
    "ylabel('Ordonnées')      #Titre de l'axe vertical\n",
    "\n",
    "grid()                 # Quadrillage\n",
    "\n",
    "show()                 # Affichage du tracé des points"
   ]
  },
  {
   "cell_type": "markdown",
   "metadata": {},
   "source": [
    "7. Modifier le dernier programme pour s'approcher davantage de la valeur 0. (Augmenter aussi les valeurs dans Ylim pour voir le résultat)"
   ]
  },
  {
   "cell_type": "code",
   "execution_count": null,
   "metadata": {},
   "outputs": [],
   "source": [
    "# Programme à écrire ici !"
   ]
  }
 ],
 "metadata": {
  "kernelspec": {
   "display_name": "Python 3",
   "language": "python",
   "name": "python3"
  },
  "language_info": {
   "codemirror_mode": {
    "name": "ipython",
    "version": 3
   },
   "file_extension": ".py",
   "mimetype": "text/x-python",
   "name": "python",
   "nbconvert_exporter": "python",
   "pygments_lexer": "ipython3",
   "version": "3.7.6"
  }
 },
 "nbformat": 4,
 "nbformat_minor": 4
}
