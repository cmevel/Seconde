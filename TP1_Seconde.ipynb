{
 "cells": [
  {
   "cell_type": "markdown",
   "metadata": {},
   "source": [
    "# Deux grands théorèmes de géométrie à la sauce Python"
   ]
  },
  {
   "cell_type": "markdown",
   "metadata": {},
   "source": [
    "## Prise en main du langage Python"
   ]
  },
  {
   "cell_type": "markdown",
   "metadata": {},
   "source": [
    "1. Quelques calculs pour prendre en main le langage Python\n",
    " * Addition de deux valeurs entières\n",
    " * Soustraction de deux valeurs entières (à compléter)\n",
    " * Multiplication de deux valeurs entières (à programmer)\n",
    " * Division de deux valeurs entières (à programmer)"
   ]
  },
  {
   "cell_type": "code",
   "execution_count": 4,
   "metadata": {},
   "outputs": [
    {
     "name": "stdout",
     "output_type": "stream",
     "text": [
      "10\n"
     ]
    }
   ],
   "source": [
    "from math import *    # importation nécessaire pour disposer de la bibliothèque mathématique\n",
    "\n",
    "def addition(a,b):    #fonction permettant de faire l'addition de deux valeurs\n",
    "    return a+b\n",
    "\n",
    "def soustraction(a,b):\n",
    "    return ....\n",
    "\n",
    "# Programmer la multiplication entre deux valeurs\n",
    "\n",
    "\n",
    "# Programmer la division entre deux valeurs\n",
    "\n",
    "\n",
    "\n",
    "#Partie nécessaire pour exécuter un programme\n",
    "print(addition(4,6))\n"
   ]
  },
  {
   "cell_type": "markdown",
   "metadata": {},
   "source": [
    "2. Quelques fonctions mathématiques nécessaires\n",
    " * Le calcul de puissance d'un nombre entier\n",
    " * Le calcul de la racine carré d'un nombre entier (faire une recherche de la fonction Python utile)"
   ]
  },
  {
   "cell_type": "code",
   "execution_count": 3,
   "metadata": {},
   "outputs": [
    {
     "name": "stdout",
     "output_type": "stream",
     "text": [
      "121\n"
     ]
    }
   ],
   "source": [
    "from math import *\n",
    "\n",
    "def puissance2(n):\n",
    "    return n**2\n",
    "\n",
    "# programmer la fonction racinecarre prenant en argument (paramètre) le nomre entier n\n",
    "\n",
    "\n",
    "#Partie nécessaire à l'exécution des programmes\n",
    "print(puissance2(11))"
   ]
  },
  {
   "cell_type": "markdown",
   "metadata": {},
   "source": [
    "## Théorème de Pythagore"
   ]
  },
  {
   "cell_type": "markdown",
   "metadata": {},
   "source": [
    "1. Créer un programme Python renvoyant la longueur du troisième côté connaissant les deux autres pour un triangle rectangle.<br/>\n",
    "Exécuter-le avec comme longueurs connues : 3 et 4."
   ]
  },
  {
   "cell_type": "code",
   "execution_count": 11,
   "metadata": {},
   "outputs": [
    {
     "name": "stdout",
     "output_type": "stream",
     "text": [
      "5.0\n"
     ]
    }
   ],
   "source": [
    "from math import *\n",
    "\n",
    "#Programme Théorème de Pythagore\n",
    "def ThPythagore(a,b):\n",
    "    return sqrt(a**2+b**2)\n",
    "\n",
    "\n",
    "#Partie nécessaire à l'exécution du programme\n",
    "print(ThPythagore(3,4))"
   ]
  },
  {
   "cell_type": "markdown",
   "metadata": {},
   "source": [
    "2. Exécuter-le avec les longueurs 6 et 8.\n",
    " <br/>**Réponse :**"
   ]
  },
  {
   "cell_type": "markdown",
   "metadata": {},
   "source": [
    "## Réciproque/Contraposée du Théorème de Pythagore"
   ]
  },
  {
   "cell_type": "markdown",
   "metadata": {},
   "source": [
    "1. Créer un programme Python renvoyant Vrai si le triangle est rectangle et faux sinon connaisant la longueur des trois côtés d'un triangle.<br/>\n",
    "Exécuter-le avec comme longueurs connues le triplet (3,4,5)."
   ]
  },
  {
   "cell_type": "code",
   "execution_count": 13,
   "metadata": {},
   "outputs": [
    {
     "name": "stdout",
     "output_type": "stream",
     "text": [
      "False\n",
      "True\n",
      "True\n"
     ]
    }
   ],
   "source": [
    "from math import *\n",
    "\n",
    "#Programme Réciproque/Contraposée du Théorème de Pythagore\n",
    "def RecContThPythagore(a,b,c):\n",
    "    if (a>b and a>c):\n",
    "        if a**2==b**2+c**2:\n",
    "            return True\n",
    "        else:\n",
    "            return False\n",
    "    elif (b>a and b>c):\n",
    "        if b**2==a**2+c**2:\n",
    "            return True\n",
    "        else:\n",
    "            return False\n",
    "    else:\n",
    "        if c**2==b**2+a**2:\n",
    "            return True\n",
    "        else:\n",
    "            return False\n",
    "\n",
    "        \n",
    "#Partie nécessaire à l'exécution du programme\n",
    "print (RecContThPythagore(3/7,4/7,5/7))\n",
    "print (RecContThPythagore(3,5,4))\n",
    "print (RecContThPythagore(5,3,4))"
   ]
  },
  {
   "cell_type": "markdown",
   "metadata": {},
   "source": [
    "2. Exécuter-le avec le triplet (10,6,8).<br/>\n",
    "**Réponse :**"
   ]
  },
  {
   "cell_type": "markdown",
   "metadata": {},
   "source": [
    "## Théorème de Thalès"
   ]
  },
   "cell_type": "markdown",
   "metadata": {},
   "source": [
    "1. Créer un programme Python renvoyant la longueur recherchée connaissant les trois autres longueurs dans la configuration donnée ci-après en admettant que les arguments a,b,c et d représentent respectivement les longueurs des côtés [AE], [AB] et [CD].<br/>![Capture%20d%E2%80%99e%CC%81cran%202020-05-14%20a%CC%80%2019.49.33.png](attachment:Capture%20d%E2%80%99e%CC%81cran%202020-05-14%20a%CC%80%2019.49.33.png)\n",
    "Exécuter-le avec les données présentes sur la configuration."
   ]
  },
  {
   "cell_type": "code",
   "execution_count": 19,
   "metadata": {},
   "outputs": [
    {
     "name": "stdout",
     "output_type": "stream",
     "text": [
      "2.5\n"
     ]
    }
   ],
   "source": [
    "from math import *\n",
    "\n",
    "# Programme du théorème de Thalès (a/b = c/d)\n",
    "def ThThales(a,b,d):\n",
    "    return (a*d)/b\n",
    "\n",
    "#Partie nécessaire à l'exécution du programme\n",
    "print(ThThales(1.5,3,5))"
   ]
  },
  {
   "cell_type": "markdown",
   "metadata": {},
   "source": [
    "## Et si on testait tout cela avec d'autres valeurs..."
   ]
  },
  {
   "cell_type": "markdown",
   "metadata": {},
   "source": [
    "1. Tester les deux programmes portant sur le Théorème de Pythagore avec:\n",
    "    * (3.2,4.7) avec le théorème de Pythagore.\n",
    "    * (3.2,4.7, ?) la valeur manquante étant celle trouvée dans le point précédent.\n",
    "    * Comment expliquer la non-cohérence entre les deux résultats ?"
   ]
  },
  {
   "cell_type": "markdown",
   "metadata": {},
   "source": [
    "2. Tester le programme de la Réciproque/Contraposée du Théorème de Pythagore avec: \n",
    " * (2.4,3.2,4) Que se passe-t-il ?\n",
    " * (1/3,(sqrt(8))/3,1) Que se passe-t-il ?\n",
    " * (3/7,4/7,5/7) Que se passe-t-il ? \n",
    " * Expliquer les raisons d'une éventuelle incohérence."
   ]
  }
 ],
 "metadata": {
  "kernelspec": {
   "display_name": "Python 3",
   "language": "python",
   "name": "python3"
  },
  "language_info": {
   "codemirror_mode": {
    "name": "ipython",
    "version": 3
   },
   "file_extension": ".py",
   "mimetype": "text/x-python",
   "name": "python",
   "nbconvert_exporter": "python",
   "pygments_lexer": "ipython3",
   "version": "3.7.6"
  }
 },
 "nbformat": 4,
 "nbformat_minor": 4
}
