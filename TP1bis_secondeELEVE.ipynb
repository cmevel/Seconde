{
 "cells": [
  {
   "cell_type": "markdown",
   "metadata": {},
   "source": [
    "# TP1 Bis : Calculer le périmètre et l'aide d'un triangle avec la formule de Héron\n",
    "(Document créé à partir d'une création de Virginie Gallien et Sophie Gorsse)"
   ]
  },
  {
   "cell_type": "markdown",
   "metadata": {},
   "source": [
    "**Partie A : Culture Mathématique**"
   ]
  },
  {
   "cell_type": "markdown",
   "metadata": {},
   "source": [
    "1. Héron d'Alexandrie est un inventeur :\n",
    "    * de l'antiquité.\n",
    "    * du Moyen-Age.\n",
    "    * de la période des lumières au XVIIIème siècle."
   ]
  },
  {
   "cell_type": "markdown",
   "metadata": {},
   "source": [
    "2. Héron d'Alexandrie travaillait:\n",
    "    * à l'école Polytechnique à Paris.\n",
    "    * à la bibliothèque d'Alexandrie.\n",
    "    * dans un amphithéâtre à ciel ouvert, à Samos (île Grecque)."
   ]
  },
  {
   "cell_type": "markdown",
   "metadata": {},
   "source": [
    "3. Héron d'Alexandrie pensait que :\n",
    "    * \"la Terre est ronde et tourne autour du soleil\".\n",
    "    * \"la Terre tourne autour du Soleil placé au centre\".\n",
    "    * \"la Terre et le Soleil tournent sur eux mêmes mais ils sont       fixes\""
   ]
  },
  {
   "cell_type": "markdown",
   "metadata": {},
   "source": [
    "4. Héron d'Alexendrie a inventé :\n",
    "    * une encre d'impression et la presse à imprimer.\n",
    "    * le treuil : un mécanisme appelé le \"varoulkos\" pour lever ou tracter des charges lourdes.\n",
    "    * la première machine à vapeur, appelée éolipyle."
   ]
  },
  {
   "cell_type": "markdown",
   "metadata": {},
   "source": [
    "**Partie B : Écrire le programme d'une fonction avec Python**"
   ]
  },
  {
   "attachments": {},
   "cell_type": "markdown",
   "metadata": {},
   "source": [
    "![title](imageheron1.png)"
   ]
  },
  {
   "cell_type": "markdown",
   "metadata": {},
   "source": [
    "1. Le mathématicien grec Héron d'Alexandrie a établi la formule suivante qui donne l'aire *s* d'un triangle de côtés *a, b, c* en utilisant le demi-périmètre $p$ de ce triangle: $$s=\\sqrt{p(p-a)(p-b)(p-c)}$$ \n",
    "Compléter l'algorithme qui permet de calculer le demi-périmètre *d* et l'aire *s* d'un triangle de côtés *a, b, c* en utilisant la méthode de Héron décrite ci-dessus."
   ]
  },
  {
   "cell_type": "markdown",
   "metadata": {},
   "source": [
    "$$d\\leftarrow$$\n",
    "$$s\\leftarrow$$"
   ]
  },
  {
   "cell_type": "markdown",
   "metadata": {},
   "source": [
    "2. Programmer en langage Python une fonction ***demi_perimetre*** de paramètres les côtés d'un triangle *a, b, c* et qui retourne le demi-périmètre de ce triangle. <br/>\n",
    "**Attention :** avant d'écrire votre fonction *demi_perimetre*, importer la bibliothèque **math** à l'aide de la commande ***from math import \\****."
   ]
  },
  {
   "cell_type": "code",
   "execution_count": null,
   "metadata": {},
   "outputs": [],
   "source": [
    "#Programme Python à faire ici!"
   ]
  },
  {
   "cell_type": "markdown",
   "metadata": {},
   "source": [
    "3. Programmer une fonction ***heron*** de paramètres les côtés d'un triangle *a, b, c* qui retourne l'aire d'un triangle de côtés *a, b, c*. Dans les instructions, faire appel à la fonction *demi_perimetre*."
   ]
  },
  {
   "cell_type": "code",
   "execution_count": null,
   "metadata": {},
   "outputs": [],
   "source": [
    "#Programme Python à faire ici!"
   ]
  },
  {
   "cell_type": "markdown",
   "metadata": {},
   "source": [
    "**Partie C : Application**"
   ]
  },
  {
   "attachments": {},
   "cell_type": "markdown",
   "metadata": {},
   "source": [
    "![title](imageheron2.png)"
   ]
  },
  {
   "cell_type": "markdown",
   "metadata": {},
   "source": [
    "1. Vérifier la capture d'écran ci-dessous. Interpréter le résultat."
   ]
  },
  {
   "attachments": {},
   "cell_type": "markdown",
   "metadata": {},
   "source": [
    "![title](imageheron3.png)"
   ]
  },
  {
   "cell_type": "markdown",
   "metadata": {},
   "source": [
    "2. Vérifier que pour *a=15, b=12* et *c=9*, la fonction ***heron*** retourne 54. Interpréter ce résultat."
   ]
  },
  {
   "cell_type": "markdown",
   "metadata": {},
   "source": [
    "3. En utilisant cette fonction ***heron***, compléter votre programme pour calculer la mesure des trois hauteurs *h* du triangle de côtés *a, b, c* en admettant que l'on considère uniquement la hauteur comme un segment perpendiculaire au côté opposé à un sommet du triangle dont les extrémités sont un sommet du triangle et un point appartenant au côté opposé à ce sommet.<br/> **Attention :** la fonction *print* ne doit pas remplacer *return*."
   ]
  },
  {
   "cell_type": "code",
   "execution_count": null,
   "metadata": {},
   "outputs": [],
   "source": [
    "#Programme python à faire ici!"
   ]
  },
  {
   "cell_type": "markdown",
   "metadata": {},
   "source": [
    "4. Calculer la mesure des trois hauteurs du triangle précédent de côtés 15cm, 12 cm et 9 cm."
   ]
  },
  {
   "cell_type": "code",
   "execution_count": null,
   "metadata": {},
   "outputs": [],
   "source": [
    "#Exécuter la fonction ici!"
   ]
  }
 ],
 "metadata": {
  "kernelspec": {
   "display_name": "Python 3",
   "language": "python",
   "name": "python3"
  },
  "language_info": {
   "codemirror_mode": {
    "name": "ipython",
    "version": 3
   },
   "file_extension": ".py",
   "mimetype": "text/x-python",
   "name": "python",
   "nbconvert_exporter": "python",
   "pygments_lexer": "ipython3",
   "version": "3.7.6"
  }
 },
 "nbformat": 4,
 "nbformat_minor": 4
}
