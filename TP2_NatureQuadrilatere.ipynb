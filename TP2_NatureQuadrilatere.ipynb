{
 "cells": [
  {
   "cell_type": "markdown",
   "metadata": {},
   "source": [
    "<h1> TP2 : Nature d'un quadrilatère ? </h1>\n",
    "\n",
    "<hr/>\n",
    "\n",
    " <h3> Compétences mathématiques </h3>   \n",
    "    <ul>\n",
    "        <li> Entraîner au raisonnement logique</li>\n",
    "        <li> Utiliser la formule de la distance dans un repère orthonormé </li>\n",
    "        <li> Utiliser les propriétés des quadrilatères   </li>\n",
    "        <li> Traduire numériquement des propriétés géométriques   </li>\n",
    "        <li> Connaître et utiliser la formule donnant la moyenne de deux nombres</li>\n",
    "        <li> Communiquer à l'écrit   </li>\n",
    "        <li> Pratiquer une lecture active de l'information en privilégiant le changement de registre  </li>\n",
    "    </ul>\n",
    " <h3> Compétences algorithmiques et en programmation</h3>   \n",
    "    <ul>     \n",
    "        <li>  Analyser le fonctionnement ou le but d'un algorithme  </li>\n",
    "        <li>  Créer un algorithme en réponse à un problème donné  </li>\n",
    "        <li>  Pratiquer une lecture active de l'information en privilégiant le changement de registre  </li>\n",
    "        <li>  Manipuler des affectations, des structures d'embranchements  </li>\n",
    "        <li>  Utiliser des opérations booléennes  </li>\n",
    "        <li>  Définir et appeler des fonctions avec et sans paramètres   </li>\n",
    "        <li>  Lire, comprendre et modifier des scripts   </li>\n",
    "    </ul>\n",
    "    <hr/>\n",
    "    <p>Ecrit par Charles Poulmaire</p><hr/>"
   ]
  },
  {
   "cell_type": "markdown",
   "metadata": {},
   "source": [
    "<h1> Enoncé</h1>\n",
    "<p>Le plan est rapporté à un repère orthonormé $(O;I;J)$.</p>\n",
    "L'objectif de cet exercice est d'introduire la notion de fonction algorithmique et de programmer la détermination automatique de la nature d'un quadrilatère connaissant les coordonnées de ses sommets.</p>"
   ]
  },
  {
   "cell_type": "markdown",
   "metadata": {},
   "source": [
    "<h2> Consigne 1 </h2>\n",
    "\n",
    "La bibliothèque `math` permet d'obtenir des fonctions mathématiques. On la charge à l'aide de la syntaxe `import math` que l'on place dès le début du script python. La fonction `math.sqrt(a)` renvoie alors la racine carrée de `a`. On peut aussi écrire `import math.sqrt` puis utiliser `sqrt`, dans la mesure où c'est la seule fonction de `math` dont on aura besoin.\n",
    "\n",
    "Soit la fonction suivante :\n"
   ]
  },
  {
   "cell_type": "code",
   "execution_count": 1,
   "metadata": {
    "collapsed": true,
    "jupyter": {
     "outputs_hidden": true
    },
    "scrolled": true
   },
   "outputs": [],
   "source": [
    "import math\n",
    "\n",
    "def distance(a,b,c,d) :\n",
    "    d = math.sqrt((c-a)**2+(d-b)**2)\n",
    "    return d"
   ]
  },
  {
   "cell_type": "markdown",
   "metadata": {},
   "source": [
    " <ol>\n",
    "<li>  Comment se nomme la fonction ?    </li>\n",
    "<br/>\n",
    "\n",
    "<br/><br/>\n",
    "<li>   Quels sont les arguments de la fonction  On précisera leurs rôles ?   </li>\n",
    "<br/>\n",
    "\n",
    "<br/><br/>\n",
    "<li>   Que renvoie la fonction ?</li>\n",
    "<br/><br/>\n",
    "\n",
    "<br/><br/>\n",
    "<li>  Ecrire le code Python ci-dessous pour tester avec $A(2;5)$ et $B(-1;-3)$ puis avec $C(2,5;5)$ et $D(-1,2;-3)$   </li>\n",
    "<br/>\n",
    "</ol>  "
   ]
  },
  {
   "cell_type": "code",
   "execution_count": 2,
   "metadata": {},
   "outputs": [],
   "source": [
    "# Ecrire le code Python ici.\n"
   ]
  },
  {
   "cell_type": "markdown",
   "metadata": {},
   "source": [
    "** <p>Le calcul d'un ordinateur avec des réels n'est qu'un calcul approché à cause de la représentation en mémoire des nombres. On ne peut donc pas tester exactement l'égalité de deux réels, et on utilise plutôt une majoration de l'erreur, comme ici :</p>**"
   ]
  },
  {
   "cell_type": "code",
   "execution_count": null,
   "metadata": {},
   "outputs": [],
   "source": [
    "epsilon = 0.001 # précision\n",
    "a = math.sqrt(2)\n",
    "b = 1.4142\n",
    "abs(a-b) < epsilon"
   ]
  },
  {
   "cell_type": "markdown",
   "metadata": {},
   "source": [
    "<h2> Consigne 2 </h2>"
   ]
  },
  {
   "cell_type": "markdown",
   "metadata": {},
   "source": [
    "<p>1) Ecrire une fonction nommée moyenne qui admet comme arguments deux réels `a` et `b` et qui renvoie la moyenne de ces deux nombres. </p>"
   ]
  },
  {
   "cell_type": "code",
   "execution_count": 22,
   "metadata": {
    "collapsed": true,
    "jupyter": {
     "outputs_hidden": true
    }
   },
   "outputs": [],
   "source": [
    "# Ecrire la fonction ici."
   ]
  },
  {
   "cell_type": "markdown",
   "metadata": {},
   "source": [
    "2) Que faut-il écrire pour calculer l'abscisse du milieu du segment $[AB]$"
   ]
  },
  {
   "cell_type": "code",
   "execution_count": 3,
   "metadata": {},
   "outputs": [],
   "source": [
    "# Ecrire l'instruction ici."
   ]
  },
  {
   "cell_type": "markdown",
   "metadata": {},
   "source": [
    "3) Que faut-il écrire pour calculer l'ordonnée du milieu du segment $[AB]$"
   ]
  },
  {
   "cell_type": "code",
   "execution_count": 4,
   "metadata": {},
   "outputs": [],
   "source": [
    "# Ecrire l'instruction ici."
   ]
  },
  {
   "cell_type": "markdown",
   "metadata": {},
   "source": [
    "<h2> Consigne 3 </h2>"
   ]
  },
  {
   "cell_type": "markdown",
   "metadata": {},
   "source": [
    "1) Que suffit-il de savoir sur les diagonales d'un quadrilatère si la conclusion à obtenir est de savoir que c'est un parallèlogramme ?"
   ]
  },
  {
   "cell_type": "markdown",
   "metadata": {},
   "source": [
    "<i>Ecrire la réponse ici.</i>\n",
    "<br/>\n",
    "*Si les diagonales d'un quadrilatère se coupent en leur mileu alors le quadrilatère est un parallèlogramme.*\n",
    "<br/> "
   ]
  },
  {
   "cell_type": "markdown",
   "metadata": {},
   "source": [
    "2) Soit $ABCD$ un quadrilatère avec $A(xA;yA),B(xB;yB),C(xC;yC)$ et $D(xD;yD)$. <br/>Ecrire, à l'aide de la fonction moyenne, une fonction parallèlogramme d'arguments $xA,yA,xB,yB,xC,yC,xD,yD$ renvoyant `True` (si le quadrilatère $ABCD$ est un parallélogramme) ou `False` (si le quadrilatère $ABCD$ n'est pas un parallélogramme).\n",
    "<p>**En informatique, un _booléen_ est un type de données prenant les valeurs `True` ou `False`, c'est-à-dire vrai ou faux.<br/>\n",
    "Dans les instructions conditionnelles, les tests utilisent des expressions booléennes.<br/><br/>\n",
    "On utilise également souvent les opérateurs booléens `or` et `and` (\"OU\" et \"ET\" en français):**</p>\n",
    "<ul><li>**l'expression  `a or b` vaut `True` si l'une au moins des valeurs booléennes `a` ou `b` est vraie et `False` sinon.**</li>\n",
    "<li>**L'expression `a and b` vaut `True` si les deux valeurs booléennes `a` et `b` sont vraies simultanément et `False` sinon.**</li></ul>"
   ]
  },
  {
   "cell_type": "code",
   "execution_count": 5,
   "metadata": {
    "collapsed": true,
    "jupyter": {
     "outputs_hidden": true
    }
   },
   "outputs": [],
   "source": [
    "# Ecrire la fonction ici. "
   ]
  },
  {
   "cell_type": "markdown",
   "metadata": {},
   "source": [
    "3) Tester votre fonction avec $A(-2;-1),B(1;0),C(2;2)$ et $D(-1;1)$."
   ]
  },
  {
   "cell_type": "code",
   "execution_count": 6,
   "metadata": {},
   "outputs": [],
   "source": [
    "# Ecrire l'instruction ici. La réponse est True."
   ]
  },
  {
   "cell_type": "code",
   "execution_count": 7,
   "metadata": {},
   "outputs": [],
   "source": [
    "# Ecrire l'instruction ici. La réponse est True."
   ]
  },
  {
   "cell_type": "markdown",
   "metadata": {},
   "source": [
    "4) Donner un exemple pour lequel la réponse est `False`. Tester votre exemple."
   ]
  },
  {
   "cell_type": "code",
   "execution_count": 8,
   "metadata": {},
   "outputs": [],
   "source": [
    "# Ecrire l'instruction ici."
   ]
  },
  {
   "cell_type": "markdown",
   "metadata": {},
   "source": [
    "<h2> Consigne 4 </h2>"
   ]
  },
  {
   "cell_type": "markdown",
   "metadata": {},
   "source": [
    "Soit la fonction `losange` suivante:"
   ]
  },
  {
   "cell_type": "code",
   "execution_count": 29,
   "metadata": {
    "collapsed": true,
    "jupyter": {
     "outputs_hidden": true
    }
   },
   "outputs": [],
   "source": [
    "def losange(xA,yA,xB,yB,xC,yC,xD,yD) :\n",
    "    epsilon = 0.001\n",
    "    if(parallelogramme(xA,yA,xB,yB,xC,yC,xD,yD)):\n",
    "        if(abs(distance(xA,yA,xB,yB)- distance(xB,yB,xC,yC))<epsilon):\n",
    "            return True\n",
    "        else:\n",
    "            return False\n",
    "    else:\n",
    "        return False"
   ]
  },
  {
   "cell_type": "markdown",
   "metadata": {},
   "source": [
    "1) Ecrire la propriété mathématique utilisée pour écrire la fonction losange."
   ]
  },
  {
   "cell_type": "markdown",
   "metadata": {},
   "source": [
    "<i>Ecrire la réponse ici.</i><br/>"
   ]
  },
  {
   "cell_type": "markdown",
   "metadata": {},
   "source": [
    "2) Expliquer la ligne suivante :  `if(parallelogramme(xA,yA,xB,yB,xC,yC,xD,yD)) :`"
   ]
  },
  {
   "cell_type": "markdown",
   "metadata": {},
   "source": [
    "<i>Ecrire la réponse ici.</i><br/>"
   ]
  },
  {
   "cell_type": "markdown",
   "metadata": {},
   "source": [
    "3) Ecrire la fonction `losange` précédente sans conditionnelle."
   ]
  },
  {
   "cell_type": "code",
   "execution_count": 30,
   "metadata": {
    "collapsed": true,
    "jupyter": {
     "outputs_hidden": true
    }
   },
   "outputs": [],
   "source": [
    "# Ecrire la fonction ici."
   ]
  },
  {
   "cell_type": "markdown",
   "metadata": {},
   "source": [
    "4) Donner un exemple pour lequel la réponse est `False`. Tester votre exemple."
   ]
  },
  {
   "cell_type": "code",
   "execution_count": 9,
   "metadata": {},
   "outputs": [],
   "source": [
    "# Ecrire l'instruction ici."
   ]
  },
  {
   "cell_type": "markdown",
   "metadata": {},
   "source": [
    "5) Donner un exemple pour lequel la réponse est `True`. Tester votre exemple."
   ]
  },
  {
   "cell_type": "code",
   "execution_count": 10,
   "metadata": {
    "collapsed": true,
    "jupyter": {
     "outputs_hidden": true
    }
   },
   "outputs": [],
   "source": [
    "# Ecrire l'instruction ici."
   ]
  },
  {
   "cell_type": "markdown",
   "metadata": {},
   "source": [
    "<h2> Consigne 5 </h2>"
   ]
  },
  {
   "cell_type": "markdown",
   "metadata": {},
   "source": [
    "1) Ecrire une fonction nommée rectangle d'arguments $xA,yA,xB,yB,xC,yC,xD,yD$ renvoyant `True``  ou ``False`` suivant que le quadrilatère est rectangle ou pas."
   ]
  },
  {
   "cell_type": "code",
   "execution_count": 11,
   "metadata": {
    "collapsed": true,
    "jupyter": {
     "outputs_hidden": true
    }
   },
   "outputs": [],
   "source": [
    "# Ecrire la fonction ici."
   ]
  },
  {
   "cell_type": "markdown",
   "metadata": {},
   "source": [
    "2) Tester votre fonction avec $A(-2;-1),B(1;0),C(2;2)$ et $D(-1;1)$."
   ]
  },
  {
   "cell_type": "code",
   "execution_count": 12,
   "metadata": {},
   "outputs": [],
   "source": [
    "# Ecrire l'instruction ici."
   ]
  },
  {
   "cell_type": "markdown",
   "metadata": {},
   "source": [
    "3) Donner un exemple pour lequel la réponse est `True` et tester."
   ]
  },
  {
   "cell_type": "code",
   "execution_count": 13,
   "metadata": {},
   "outputs": [],
   "source": [
    "# Ecrire l'instruction ici."
   ]
  },
  {
   "cell_type": "markdown",
   "metadata": {},
   "source": [
    "4) Ecrire la fonction `rectangle` précédente sans conditionnelle."
   ]
  },
  {
   "cell_type": "code",
   "execution_count": 14,
   "metadata": {
    "collapsed": true,
    "jupyter": {
     "outputs_hidden": true
    }
   },
   "outputs": [],
   "source": [
    "# Ecrire la fonction ici."
   ]
  },
  {
   "cell_type": "markdown",
   "metadata": {},
   "source": [
    "5) Donner un exemple pour lequel la réponse est `False`. Tester votre exemple."
   ]
  },
  {
   "cell_type": "code",
   "execution_count": 15,
   "metadata": {},
   "outputs": [],
   "source": [
    "# Ecrire l'instruction ici."
   ]
  },
  {
   "cell_type": "markdown",
   "metadata": {},
   "source": [
    "6) Donner un exemple pour lequel la réponse est `True`. Tester votre exemple."
   ]
  },
  {
   "cell_type": "code",
   "execution_count": 16,
   "metadata": {},
   "outputs": [],
   "source": [
    "# Ecrire l'instruction ici."
   ]
  },
  {
   "cell_type": "markdown",
   "metadata": {},
   "source": [
    "<h2> Consigne 6 </h2>\n",
    "<p> 1) En utilisant la propriété suivant \"Si un quadrilatère est un losange et un rectangle alors c'est un carré\", écrire \n",
    "une fonction carre(xA,yA,xB,yB,xC,yC,xD,yD) qui renvoie True ou False."
   ]
  },
  {
   "cell_type": "code",
   "execution_count": 39,
   "metadata": {
    "collapsed": true,
    "jupyter": {
     "outputs_hidden": true
    }
   },
   "outputs": [],
   "source": [
    "# Ecrire la fonction ici."
   ]
  },
  {
   "cell_type": "markdown",
   "metadata": {},
   "source": [
    "2) Tester votre fonction avec $A(-2;-1),B(1;0),C(2;2)$ et $D(-1;1)$."
   ]
  },
  {
   "cell_type": "code",
   "execution_count": 17,
   "metadata": {},
   "outputs": [],
   "source": [
    "# Ecrire l'instruction ici."
   ]
  },
  {
   "cell_type": "markdown",
   "metadata": {},
   "source": [
    "3) Ecrire la fonction `carre` précédente sans conditionnelle."
   ]
  },
  {
   "cell_type": "code",
   "execution_count": 41,
   "metadata": {
    "collapsed": true,
    "jupyter": {
     "outputs_hidden": true
    }
   },
   "outputs": [],
   "source": [
    "# Ecrire la fonction ici. "
   ]
  },
  {
   "cell_type": "markdown",
   "metadata": {},
   "source": [
    "4) Tester votre fonction."
   ]
  },
  {
   "cell_type": "code",
   "execution_count": 18,
   "metadata": {},
   "outputs": [],
   "source": [
    "# Ecrire l'instruction ici."
   ]
  },
  {
   "cell_type": "markdown",
   "metadata": {},
   "source": [
    "<h2> Consigne 7 </h2>\n",
    "<p>**En informatique, une chaîne de caractères est indiquée par les double-guillemets `\" \"`. Par exemple, l'instruction `\"losange\"` correspond à la chaîne de caractères `losange`.**</p>\n",
    "<p>1) A l'aide des fonctions définies précédemment, écrivez  ci-dessous une fonction renvoyant une chaîne de caractères indiquant si le quadrilatère est un carré, un losange, un rectangle, un parallélogramme ou quelconque.</p>"
   ]
  },
  {
   "cell_type": "code",
   "execution_count": 44,
   "metadata": {
    "collapsed": true,
    "jupyter": {
     "outputs_hidden": true
    }
   },
   "outputs": [],
   "source": [
    "# Ecrire la fonction ici."
   ]
  },
  {
   "cell_type": "markdown",
   "metadata": {},
   "source": [
    "2) Tester votre fonction avec $A(-2;-1),B(1;0),C(2;2)$ et $D(-1;1)$."
   ]
  },
  {
   "cell_type": "code",
   "execution_count": 19,
   "metadata": {},
   "outputs": [],
   "source": [
    "# Ecrire l'instruction ici."
   ]
  }
 ],
 "metadata": {
  "kernelspec": {
   "display_name": "Python 3",
   "language": "python",
   "name": "python3"
  },
  "language_info": {
   "codemirror_mode": {
    "name": "ipython",
    "version": 3
   },
   "file_extension": ".py",
   "mimetype": "text/x-python",
   "name": "python",
   "nbconvert_exporter": "python",
   "pygments_lexer": "ipython3",
   "version": "3.7.6"
  },
  "varInspector": {
   "cols": {
    "lenName": 16,
    "lenType": 16,
    "lenVar": 40
   },
   "kernels_config": {
    "python": {
     "delete_cmd_postfix": "",
     "delete_cmd_prefix": "del ",
     "library": "var_list.py",
     "varRefreshCmd": "print(var_dic_list())"
    },
    "r": {
     "delete_cmd_postfix": ") ",
     "delete_cmd_prefix": "rm(",
     "library": "var_list.r",
     "varRefreshCmd": "cat(var_dic_list()) "
    }
   },
   "types_to_exclude": [
    "module",
    "function",
    "builtin_function_or_method",
    "instance",
    "_Feature"
   ],
   "window_display": true
  }
 },
 "nbformat": 4,
 "nbformat_minor": 4
}
