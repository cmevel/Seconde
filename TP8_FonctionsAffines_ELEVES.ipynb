{
 "cells": [
  {
   "cell_type": "markdown",
   "metadata": {},
   "source": [
    "# TP 8 : Algorithmes et fonctions affines"
   ]
  },
  {
   "cell_type": "markdown",
   "metadata": {},
   "source": [
    "## Exercice 1 : \n",
    "Voici deux algorithmes\n",
    "\n",
    " * Algo 1 d'argument X appelé algo1(X)   \n",
    " &ensp;$Y\\leftarrow1.5X+3$   \n",
    " &ensp;Retourner $Y$    \n",
    "    \n",
    "    \n",
    " * Algo 2 d'argument X appelé algo2(X)   \n",
    " &ensp;$Y\\leftarrow1.5X+3$   \n",
    " &ensp;$Y\\leftarrow Y+30$   \n",
    " &ensp;Retourner $Y$   \n",
    " \n",
    " \n",
    "1. Donner le contenu de la variable $Y$ à la sortie de ces deux algorithmes lorsque : $X=6$ et $X=11$.\n",
    "\n",
    "2. On donne la fonction suivante en Python de l'algo 1.\n",
    " * Exécuter-le pour les valeurs précédentes."
   ]
  },
  {
   "cell_type": "code",
   "execution_count": 1,
   "metadata": {},
   "outputs": [],
   "source": [
    "def algo1(x):\n",
    "    y=1.5*x+3\n",
    "    return y\n",
    "\n",
    "print(algo1(...)) #à compléter"
   ]
  },
  {
   "cell_type": "markdown",
   "metadata": {},
   "source": [
    " * Programmer l'algorithme 2."
   ]
  },
  {
   "cell_type": "code",
   "execution_count": null,
   "metadata": {},
   "outputs": [],
   "source": [
    "#programme à écrire ici puis le tester avec les deux valeurs précédentes."
   ]
  },
  {
   "cell_type": "markdown",
   "metadata": {},
   "source": [
    "## Exercice 2 :\n",
    "1. Voici un algorithme avec un test \"if\" prenant en paramètre d'entrée X :   \n",
    "&ensp;Si $X < 10$    \n",
    "&ensp;&ensp;&ensp;&ensp;$Y\\leftarrow1.5X+3$    \n",
    "&ensp;Sinon   \n",
    "&ensp;&ensp;&ensp;&ensp;$Y\\leftarrow2X-4$   \n",
    "&ensp;Retourner $Y$   \n",
    "    \n",
    "&ensp;&ensp;&ensp;&ensp; Donner le contenu à la sortie dans la variable $Y$ pour $X=6$ et $X=11$."
   ]
  },
  {
   "cell_type": "markdown",
   "metadata": {},
   "source": [
    " 2. Un site de développement de photos en ligne affiche les tarifs suivants:\n",
    " * De 1 à 50 tirages : 0,15€ par photo et 3€ de frais de port;\n",
    " * Au-delà de 50 tirages, 0,10€ la photo et 4€ de frais de port;\n",
    "\n",
    "$\\quad$ a) Calculer le prix payé pour 40 photos puis pour 70 photos.<br>\n",
    "$\\quad$ b) Écrire une fonction en Python donnant le prix payé connaissant le nombre de photos commandées.<br>\n",
    "$\\quad$ c) Exécuter la fonction créée pour les valeurs du a)"
   ]
  },
  {
   "cell_type": "code",
   "execution_count": null,
   "metadata": {},
   "outputs": [],
   "source": [
    "# Programmer la fonction python ici"
   ]
  },
  {
   "cell_type": "markdown",
   "metadata": {},
   "source": [
    "## Exercice 3 : \n",
    "Dans le magasin de bonbons fréquenté par Julie, les tarifs sont les suivants:\n",
    " * 0,03€ le gramme jusqu'à 1kg;\n",
    " * au-delà de 1kg : 0,02€ chaque gramme supplémentaire.\n",
    " \n",
    "1. Quel est le prix payé par Julie pour un achat de 500g ? Et pour un achat de 1,3kg ?\n",
    "2. Soit $x$ le nombre de grammes achetées par Julie. Déterminer en distinguant deux situations le prix qu'elle devra payer noté $P(x)$.\n",
    "3. Programmer une fonction retournant le prix à payer en fonction de la quantité en gramme acheté par le client. Le tester ensuite pour un achat de 750g et un autre de 2,6kg de bonbons."
   ]
  },
  {
   "cell_type": "code",
   "execution_count": null,
   "metadata": {},
   "outputs": [],
   "source": [
    "#Programmer en Python ici"
   ]
  }
 ],
 "metadata": {
  "kernelspec": {
   "display_name": "Python 3",
   "language": "python",
   "name": "python3"
  },
  "language_info": {
   "codemirror_mode": {
    "name": "ipython",
    "version": 3
   },
   "file_extension": ".py",
   "mimetype": "text/x-python",
   "name": "python",
   "nbconvert_exporter": "python",
   "pygments_lexer": "ipython3",
   "version": "3.7.6"
  }
 },
 "nbformat": 4,
 "nbformat_minor": 4
}
