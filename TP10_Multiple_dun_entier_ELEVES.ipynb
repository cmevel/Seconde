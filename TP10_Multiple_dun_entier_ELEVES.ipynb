{
 "cells": [
  {
   "cell_type": "markdown",
   "metadata": {},
   "source": [
    "# TP : Multiple d'un entier"
   ]
  },
  {
   "cell_type": "markdown",
   "metadata": {},
   "source": [
    "1. Donner les multiples positifs de 4 inférieurs à 21.\n",
    "2. Étant donné deux entiers naturels $a$ et $b$,à quelle condition $a$ est un multiple de $b$ ?\n",
    "3. Compléter l'algorithme ci-dessous:   \n",
    " $K \\leftarrow 0$    \n",
    " Tant que ...    \n",
    " &ensp;&ensp;&ensp;$K \\leftarrow K+1$  \n",
    " Fin Tant que   \n",
    " Si ...  \n",
    " &ensp;&ensp;&ensp;Afficher (*a*,\"est multiple de \",*b*)  \n",
    " Sinon  \n",
    " &ensp;&ensp;&ensp;Afficher (*a*,\"n'est pas un multiple de \",*b*)  \n",
    " Fin Si    \n",
    " \n",
    "4. Compléter le script en langage Python de l'algorithme précédent"
   ]
  },
  {
   "cell_type": "code",
   "execution_count": null,
   "metadata": {},
   "outputs": [],
   "source": [
    "# Script Python \n",
    "a=int(input (\"a ?\"))\n",
    "b=int(input(\"b ?\"))\n",
    "\n",
    "k=0\n",
    "\n",
    "while .... : #à compléter\n",
    "    k=k+1\n",
    "if .... : #à compléter\n",
    "    print(a,\"est un multiple de \",b)\n",
    "else:\n",
    "    print(a,\"n'est pas un multiple de \",b)"
   ]
  },
  {
   "cell_type": "markdown",
   "metadata": {},
   "source": [
    "5. Tester le pour $a=32$ et $b=4$, $a=37$ et $b=13$ puis $a=0$ et $b=17$.\n",
    "6. Écrire une fonction \"est_multiple(a,b)\" qui renvoir True si $a$ est un multiple de $b$ False sinon."
   ]
  },
  {
   "cell_type": "code",
   "execution_count": null,
   "metadata": {},
   "outputs": [],
   "source": [
    "# Programme fonction est_multiple(a,b) en Python ici"
   ]
  },
  {
   "cell_type": "markdown",
   "metadata": {},
   "source": [
    "7. Voici pour deux entiers $a$ et $b$ donnés la fonction renvoyant le plus grand multiple de $b$ inférieur ou égal à $a$ sachant qu'on suppose que $b\\leq a$.\n",
    " * Exécuter le avec différentes valeurs puis expliquer la ligne 5."
   ]
  },
  {
   "cell_type": "code",
   "execution_count": null,
   "metadata": {},
   "outputs": [],
   "source": [
    "def PlusGrandMultiple(a,b):\n",
    "    n=1\n",
    "    while n*b<=a:\n",
    "        n=n+1\n",
    "    return (n-1)*b"
   ]
  },
  {
   "cell_type": "code",
   "execution_count": null,
   "metadata": {},
   "outputs": [],
   "source": []
  }
 ],
 "metadata": {
  "kernelspec": {
   "display_name": "Python 3",
   "language": "python",
   "name": "python3"
  },
  "language_info": {
   "codemirror_mode": {
    "name": "ipython",
    "version": 3
   },
   "file_extension": ".py",
   "mimetype": "text/x-python",
   "name": "python",
   "nbconvert_exporter": "python",
   "pygments_lexer": "ipython3",
   "version": "3.7.6"
  }
 },
 "nbformat": 4,
 "nbformat_minor": 4
}
