{
 "cells": [
  {
   "cell_type": "markdown",
   "metadata": {},
   "source": [
    "# TP3 : Algorithmes et tracés de courbes"
   ]
  },
  {
   "cell_type": "markdown",
   "metadata": {},
   "source": [
    "L'objectif de ce TP est de tracer la courbe représentative d'une fonction.<br/>\n",
    "On considère par exemple la fonction $f$ définie sur $[-5 ; 5]$ par $f(x) = x² - 3x + 1$."
   ]
  },
  {
   "cell_type": "markdown",
   "metadata": {},
   "source": [
    "**1. Première tentative:**\n",
    " * Excécuter le programme ci-dessous."
   ]
  },
  {
   "cell_type": "code",
   "execution_count": 2,
   "metadata": {},
   "outputs": [],
   "source": [
    "import matplotlib.pyplot as plt\n",
    "\n",
    "x1=0\n",
    "x2=1\n",
    "x3=2\n",
    "\n",
    "y1=x1**2-3*x1+1\n",
    "y2=x2**2-3*x2+1\n",
    "y3=x3**2-3*x3+1\n",
    "\n",
    "plt.plot([x1,x2,x3],[y1,y2,y3],'b.')\n",
    "plt.grid()\n",
    "plt.show()"
   ]
  },
  {
   "cell_type": "markdown",
   "metadata": {},
   "source": [
    "   * Pourquoi, bien que correct, ce programme est-il très mauvais pour l'objectif annoncé ?\n",
    "   * Que faudrait-il faire pour le modifier ?"
   ]
  },
  {
   "cell_type": "markdown",
   "metadata": {},
   "source": [
    "**2. Utilisation d'une boucle : l'itération \"while\"**"
   ]
  },
  {
   "cell_type": "markdown",
   "metadata": {},
   "source": [
    "Information :<br/>\n",
    "La boucle **while(test)** est une strucutre d'algorithme appelée instruction répétitive car elle répète un bloc d'instructions tant que le test est vrai, et s'arrête dès que le test est faux.\n",
    " * Exécuter le programme ci-dessous."
   ]
  },
  {
   "cell_type": "code",
   "execution_count": 3,
   "metadata": {},
   "outputs": [],
   "source": [
    "x=0\n",
    "\n",
    "while(x<=4):    #Entre parenthèse, la condition à tester à chaque itération\"\n",
    "    print(\"Voici le numéro\",x)\n",
    "    x=x+1"
   ]
  },
  {
   "cell_type": "markdown",
   "metadata": {},
   "source": [
    " * Que se passe-t-il ?\n",
    " * Modifier le 4 par 10 puis l'exécuter. Des changements ? \n",
    " * Modifier le <= par < puis l'exécuter. Des changements ?"
   ]
  },
  {
   "cell_type": "markdown",
   "metadata": {},
   "source": [
    "**3. Application à notre tracé**\n",
    "On considère à nouveau la fonction *f* définie sur $[-5 ; 5]$ par $f(x) = x² - 3x + 1$.\n",
    " * Compléter les instructions du programme ci-dessous pour obtenir les points de la courbe $C_f$ d'abscisses les nombres entiers de l'intervalle $[-5 ; 5]:"
   ]
  },
  {
   "cell_type": "code",
   "execution_count": 5,
   "metadata": {},
   "outputs": [],
   "source": [
    "import matplotlib.pyplot as plt\n",
    "\n",
    "x=-5\n",
    "\n",
    "while(..............):   #à compléter\n",
    "   y=............   #à compléter\n",
    "   plt.plot(x,y,'b.')\n",
    "   x=x+1\n",
    "    \n",
    "plt.grid()\n",
    "plt.show()"
   ]
  },
  {
   "cell_type": "markdown",
   "metadata": {},
   "source": [
    " * Modifier ci-dessous puis exécuter le programme pour obtenir les points de la courbe $C_f$ d'abscisses espacées de 1 dixième dans l'intervalle $[-5 ; 5]."
   ]
  },
  {
   "cell_type": "code",
   "execution_count": 6,
   "metadata": {},
   "outputs": [],
   "source": [
    "# Programme modifié à écrire ici\n"
   ]
  },
  {
   "cell_type": "markdown",
   "metadata": {},
   "source": [
    " * Modifier ci-dessous puis exécuter le programme pour obtenir les points de la courbe $C_f$ d'abscisses espacées de 1 centième dans l'intervalle $[-10 ; 10[$."
   ]
  },
  {
   "cell_type": "code",
   "execution_count": 7,
   "metadata": {},
   "outputs": [],
   "source": [
    "# Programme modifié à écrire ici\n"
   ]
  },
  {
   "cell_type": "markdown",
   "metadata": {},
   "source": [
    " * L'importation de la bibliothèque numpy permet aussi de reproduire un tracé de courbe très proche d'un tracé fait à la main.<br/> Exécuter le programme ci-dessous."
   ]
  },
  {
   "cell_type": "code",
   "execution_count": 9,
   "metadata": {},
   "outputs": [],
   "source": [
    "import numpy as np\n",
    "import matplotlib.pyplot as plt\n",
    "\n",
    "x=np.linspace(-5,5,100)\n",
    "plt.plot(x,x**2-3*x+1)\n",
    "plt.ylabel(\"L'axe des ordonnées\")\n",
    "plt.xlabel(\"L'axe des abscisses\")\n",
    "plt.title(\"Graphe de la fonction f\")\n",
    "plt.show()"
   ]
  },
  {
   "cell_type": "markdown",
   "metadata": {},
   "source": [
    " * Dans l'instruction de la ligne 4, modifier la valeur 100 par 10, puis 50. Exécuter le programme à chaque fois. Que remarquez-vous ?\n",
    " *  subplot est une fonction intégrée à la bibliothèque mathplotlib qui permet d'afficher plusieurs graphiques sur une même figure.<br/>Exécuter le programme ci-dessous."
   ]
  },
  {
   "cell_type": "code",
   "execution_count": 12,
   "metadata": {},
   "outputs": [],
   "source": [
    "import numpy as np\n",
    "import matplotlib.pyplot as plt\n",
    "\n",
    "def f(x):\n",
    " return x**2-3*x+1\n",
    "\n",
    "t1 = np.arange(-5.0, 6.0, 1)\n",
    "t2 = np.arange(-5.0, 5.0, 0.1)\n",
    "t3 = np.arange(-5.0, 5.0, 0.01)\n",
    "plt.figure(1)\n",
    "plt.subplot(221)\n",
    "plt.plot(t1, f(t1))\n",
    "plt.subplot(222)\n",
    "plt.plot(t2, f(t2), 'r--')\n",
    "plt.subplot(223)\n",
    "plt.plot(t3, f(t3), 'g-')"
   ]
  },
  {
   "cell_type": "markdown",
   "metadata": {},
   "source": [
    " * Expliquer le rôle des lignes 7 à 9.\n",
    " * Expliquer le rôle des lignes 10 à 16."
   ]
  },
  {
   "cell_type": "code",
   "execution_count": null,
   "metadata": {},
   "outputs": [],
   "source": []
  }
 ],
 "metadata": {
  "kernelspec": {
   "display_name": "Python 3",
   "language": "python",
   "name": "python3"
  },
  "language_info": {
   "codemirror_mode": {
    "name": "ipython",
    "version": 3
   },
   "file_extension": ".py",
   "mimetype": "text/x-python",
   "name": "python",
   "nbconvert_exporter": "python",
   "pygments_lexer": "ipython3",
   "version": "3.7.6"
  }
 },
 "nbformat": 4,
 "nbformat_minor": 4
}
