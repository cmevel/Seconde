{
 "cells": [
  {
   "cell_type": "markdown",
   "metadata": {},
   "source": [
    "# TP 4 :  Les identités remarquables\n",
    "\n",
    "*D'après un document de Sophie Gorsse*"
   ]
  },
  {
   "cell_type": "markdown",
   "metadata": {},
   "source": [
    "1. On considère les fonctions suivantes :\n",
    "    * def somme1(a,b):  \n",
    "     $\\quad$ return((a+b)\\*\\*2)\n",
    "    * def somme2(a,b):  \n",
    "     $\\quad$ return (a\\*\\*2 + b\\*\\*2)      \n",
    "     \n",
    "   a. Sans implanter ces scripts dans Python, quelles sont les valeurs retournées par les deux fonctions pour $a=1$ et $b=2$ ?  \n",
    "      \n",
    "   b. Implémenter ces scripts dans l'éditeur ci-dessous puis les compiler.  \n",
    "   \n",
    "   c. Tester-le avec les instructions somme1(1,2) et somme2(1,2)"
   ]
  },
  {
   "cell_type": "code",
   "execution_count": null,
   "metadata": {},
   "outputs": [],
   "source": [
    "#Programme Python à faire ici !"
   ]
  },
  {
   "cell_type": "markdown",
   "metadata": {},
   "source": [
    "1. d. Compléter le tableau suivant à l'aide des fonctions programmées sous Python.\n",
    "\n",
    "| Saisir la valeur de a | Saisir la valeur de b | (a+b)² | a²+b² |\n",
    "|:---------------------:|:---------------------:|:------:|:-----:|\n",
    "|           0           |           0           |        |       |\n",
    "|           0           |          100          |        |       |\n",
    "|           2           |           -3          |        |       |\n",
    "|           3           |           2           |        |       |\n",
    "|           4           |           65          |        |       |\n",
    "|           -2          |           5           |        |       |\n",
    "\n",
    "L'égalité $(a+b)^2=a^2+b^2$ est-elle vraie pour tous les nombres *a* et *b* ? "
   ]
  },
  {
   "cell_type": "markdown",
   "metadata": {},
   "source": [
    "2. Utiliser deux fonctions ***difference1(a,b)*** et ***difference2(a,b)*** pour tester si l'égalité $(a-b)^2=a^2-b^2$ est vraie pour tous nombres *a* et *b*."
   ]
  },
  {
   "cell_type": "code",
   "execution_count": null,
   "metadata": {},
   "outputs": [],
   "source": [
    "#Programme Python à faire ici!"
   ]
  },
  {
   "cell_type": "markdown",
   "metadata": {},
   "source": [
    "3. \n",
    "   a. À l'aide de vos fonctions, calculer $(a+b)^2 + (a-b)^2$ et $(a^2+b^2)$ pour $a=1,b=2$, puis $a=-1, b=3$. <br/>\n",
    "Que remarquez-vous ?"
   ]
  },
  {
   "cell_type": "code",
   "execution_count": null,
   "metadata": {},
   "outputs": [],
   "source": [
    "#Programme Python à faire ici!"
   ]
  },
  {
   "cell_type": "markdown",
   "metadata": {},
   "source": [
    "3. b. On veut tester pour quelle valeur de *a* et *b* l'égalité $(a+b)^2 + (a-b)^2 = 2(a^2+b^2)$ est vraie. Compléter le script de la fonction ***test*** qui prend *a* et *b* pour arguments et renvoie \"vrai\" ou \"faux\" selon que l'égalité est vérifiée ou non."
   ]
  },
  {
   "cell_type": "code",
   "execution_count": 9,
   "metadata": {},
   "outputs": [
    {
     "name": "stdout",
     "output_type": "stream",
     "text": [
      "True\n"
     ]
    }
   ],
   "source": [
    "def test(a,b):\n",
    "    if  (...................):       #à compléter\n",
    "        return (True)\n",
    "    else:\n",
    "        return (False)\n",
    "    \n",
    "print (....................)"
   ]
  },
  {
   "cell_type": "markdown",
   "metadata": {},
   "source": [
    "3. c. Utiliser la fonction ***test*** pour compléter le tableau ci-dessous.\n",
    "\n",
    "| Saisir la valeur de a | Saisir la valeur de b | Affichage |\n",
    "|:---------------------:|:---------------------:|:---------:|\n",
    "|           0           |           0           |           |\n",
    "|           0           |          100          |           |\n",
    "|           2           |           -3          |           |\n",
    "|           3           |           2           |           |\n",
    "|           4           |           65          |           |\n",
    "|           -2          |           5           |           |"
   ]
  },
  {
   "cell_type": "markdown",
   "metadata": {},
   "source": [
    "3. d. Que remarquez-vous ?"
   ]
  },
  {
   "cell_type": "markdown",
   "metadata": {},
   "source": [
    "3. e. Démontrer votre conjecture en développant les expressions $(a+b)^2$ et $(a-b)^2$."
   ]
  }
 ],
 "metadata": {
  "kernelspec": {
   "display_name": "Python 3",
   "language": "python",
   "name": "python3"
  },
  "language_info": {
   "codemirror_mode": {
    "name": "ipython",
    "version": 3
   },
   "file_extension": ".py",
   "mimetype": "text/x-python",
   "name": "python",
   "nbconvert_exporter": "python",
   "pygments_lexer": "ipython3",
   "version": "3.7.6"
  }
 },
 "nbformat": 4,
 "nbformat_minor": 4
}
